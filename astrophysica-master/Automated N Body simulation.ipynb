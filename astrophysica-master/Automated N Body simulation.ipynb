{
 "cells": [
  {
   "cell_type": "code",
   "execution_count": 5,
   "metadata": {},
   "outputs": [],
   "source": [
    "import numpy as np\n",
    "import matplotlib.pyplot as plt\n",
    "plt.rcParams[\"figure.figsize\"] = (20, 20) #Changes the default size of plotted figures.\n",
    "import random as rand"
   ]
  },
  {
   "cell_type": "markdown",
   "metadata": {},
   "source": [
    "We started with a simple 2 body orbit. Now we try to work in another body into the mix.\n"
   ]
  },
  {
   "cell_type": "code",
   "execution_count": 15,
   "metadata": {},
   "outputs": [],
   "source": [
    "#G = 6.674 * 10 ** (-11) * (3600 * 24) ** 2 #m^3 kg^-1 day^-2\n",
    "G = 6.674 * 10 ** (-11) * (3600 ** 2) #m^3 kg^-1 hr^-2\n",
    "#G = 6.674 * 10 ** (-11) ##m^3 kg^-1 s^-2\n",
    "\n",
    "\n",
    "#Standard Distance Equation\n",
    "def calc_distance(x_position_1 = 0, y_position_1 = 0, x_position_2 = 0, y_position_2 = 0): \n",
    "    R = np.sqrt((x_position_1 - x_position_2)**2 + (y_position_1 - y_position_2)**2)\n",
    "    return R\n",
    "#Newtonian equations of motion for velocity and position.\n",
    "def update_velocity(velocity, acceleration, timestep):\n",
    "    new_velocity = velocity + (acceleration * timestep)\n",
    "    return new_velocity\n",
    "\n",
    "#Ensure that angular momentum is conserved. L = mvr\n",
    "#If the updated velocity results in an L that is larger than the original system's angular momentum,\n",
    "#then we take the difference and subtract it evenly from both the x and the y components of velocity. \n",
    "#If the new L is lower than the original angular momentum, then we will have to add the difference to both \n",
    "#components evenly. However, this is a shoe-horned fix. The mathematics of the forces in the system should\n",
    "#naturally yield a system where angular momentum is conserved.\n",
    "def check_L(x_velocity, y_velocity, mass, distance, angular_momentum):\n",
    "    total_velocity = np.sqrt(x_velocity ** 2 + y_velocity ** 2)\n",
    "    L = mass * velocity * distance\n",
    "    if L != angular_momentum:\n",
    "        difference = angular_momentum - L\n",
    "        \n",
    "    \n",
    "def update_position(x, y, v_x, v_y, timestep):\n",
    "    new_x = x + v_x*timestep\n",
    "    new_y = y + v_y*timestep\n",
    "    return new_x, new_y\n",
    "def calculate_accelerations(bodies):\n",
    "    x_accelerations = []\n",
    "    y_accelerations = []\n",
    "    for orbitting_body in bodies:\n",
    "        x_accel = 0\n",
    "        y_accel = 0\n",
    "        for central_body in bodies:\n",
    "            if central_body != orbitting_body:\n",
    "                R = calc_distance(central_body.x_position, central_body.y_position, orbitting_body.x_position, orbitting_body.y_position)\n",
    "                x_accel += -G * central_body.mass * np.abs(R ** (-3)) * (-central_body.x_position + orbitting_body.x_position)\n",
    "                y_accel += -G * central_body.mass * np.abs(R ** (-3)) * (-central_body.y_position + orbitting_body.y_position)\n",
    "        x_accelerations.append(x_accel)\n",
    "        y_accelerations.append(y_accel)\n",
    "    return x_accelerations, y_accelerations\n",
    "\n",
    "#The heart of the simulation.\n",
    "\n",
    "\n",
    "def calculate_step(bodies, t=1):\n",
    "    for i in range(0, len(bodies)):\n",
    "        bodies[i].x_position, bodies[i].y_position = update_position(bodies[i].x_position, bodies[i].y_position, bodies[i].x_velocity, bodies[i].y_velocity, t)\n",
    "    x_accelerations, y_accelerations = calculate_accelerations(bodies)\n",
    "    for i in range(0, len(bodies)):\n",
    "        bodies[i].x_velocity = update_velocity(bodies[i].x_velocity, x_accelerations[i], t)\n",
    "        bodies[i].y_velocity = update_velocity(bodies[i].y_velocity, y_accelerations[i], t)\n",
    "    return\n",
    "        \n",
    "#generate randomized initial conditions\n",
    "def generate_initial(bodies):\n",
    "    for body in bodies:\n",
    "        time = rand.randint(0, 100)\n",
    "        print(time)\n",
    "        i = 0\n",
    "        while i < time:\n",
    "            calculate_step([body])\n",
    "            i+=1\n",
    "    return \n",
    "\n",
    "#Simulation Wrapper: This automates what I did manually in previous works. This code can now take N bodies and handle them\n",
    "#Computing power allowing, without requiring the user to initialize all of the arrays and appending them.\n",
    "def simulate(bodies, simulation_time, lim_low = -5 * 10 ** 12, lim_high = 5 * 10 ** 12):\n",
    "    file = open(\"simulation.py\", \"w\")\n",
    "    for body in bodies:\n",
    "        file.write(body.name + \"_x_position = [] \\n\")\n",
    "        file.write(body.name + \"_y_position = [] \\n\")\n",
    "    file.write(\"for t in range(0, simulation_time): \\n\")\n",
    "    for body in bodies:\n",
    "        file.write(\"  \" + body.name + \"_x_position.append(\" + body.name + \".x_position) \\n\")\n",
    "        file.write(\"  \" + body.name + \"_y_position.append(\" + body.name + \".y_position) \\n\")\n",
    "    file.write(\"  calculate_step([\")\n",
    "    for body in bodies:\n",
    "        file.write(body.name + \", \")\n",
    "    file.write(\"]) \\n\")\n",
    "    for body in bodies:\n",
    "        file.write(\"plt.plot(\" + body.name + \"_x_position, \" + body.name + \"_y_position, label = \\\"\" + str(body.name) + \"\\\") \\n\")\n",
    "    file.write(\"plt.legend() \\n\")\n",
    "    #Mandate a square field of view\n",
    "    file.write(\"plt.xlim(\" + str(lim_low) + \", \" + str(lim_high) + \") \\n\")\n",
    "    file.write(\"plt.ylim(\" + str(lim_low) + \", \" + str(lim_high) + \") \\n\")\n",
    "    file.write(\"plt.show() \\n\")\n",
    "    file.close()\n",
    "    exec(open(\"simulation.py\").read()) #Information for running programs within Python programs can be found here: https://stackoverflow.com/questions/7974849/how-can-i-make-one-python-file-run-another\n",
    "    return\n",
    "    \n",
    "\n",
    "    \n",
    "class body:\n",
    "    global G\n",
    "    def __init__(self, name, mass, x_position, y_position, x_velocity, y_velocity):\n",
    "        self.name = name\n",
    "        self.mass = mass\n",
    "        self.x_position = x_position\n",
    "        self.y_position = y_position\n",
    "        self.x_velocity = x_velocity\n",
    "        self.y_velocity = y_velocity\n",
    "\n",
    "        \n"
   ]
  },
  {
   "cell_type": "code",
   "execution_count": 12,
   "metadata": {},
   "outputs": [],
   "source": [
    "#Initial Conditions Values taken from NASA's fact sheets on solar system bodies\n",
    "#https://nssdc.gsfc.nasa.gov/planetary/planetfact.html\n",
    "\n",
    "M1 = 1.9091 * 10 ** 30 #kg #solar mass\n",
    "M2 = 5.9724 * 10 ** 24 #kg #earth mass\n",
    "M3 = 6.4171 * 10 ** 23 #kg #mars mass\n",
    "M4 = 3.3011 * 10 ** 23 #kg #mercury mass\n",
    "M5 = 4.8675 * 10 ** 24 #kg #venus mass\n",
    "M6 = 1898.19 * 10 ** 24 #kg #Jupiter mass\n",
    "M7 = 568.34 * 10 ** 24 #kg #Saturn mass\n",
    "M8 = 86.813 * 10 ** 24 #kg #Uranus mass\n",
    "M9 = 102.413 * 10 ** 24 #kg #Neptune mass\n",
    "M10 = 0.01303 * 10 ** 24 #kg #Pluto mass\n",
    "\n",
    "v_earth = (30.29 * 10 ** 3) * 3600# m/hr max speed\n",
    "x_earth = 147.09 * 10 ** 9 #m at perihelion\n",
    "y_earth = 0.0 #m\n",
    "\n",
    "v_mars = (26.5 * 10 ** 3) * 3600 #m/hr max speed\n",
    "x_mars = 0.0 #m\n",
    "y_mars = 206.62 * 10 ** 9 #m at perihelion\n",
    "\n",
    "v_mercury = (58.98 * 10 ** 3) * 3600 #m/hr max speed\n",
    "x_mercury = 46.0 * 10 ** 9 #m at perihelion\n",
    "y_mercury = 0.0 #m\n",
    "\n",
    "v_venus = (35.26 * 10 ** 3) * 3600 #m/hr max speed\n",
    "x_venus = 0.0 #m\n",
    "y_venus = 107.48 * 10 ** 9 #m at perihelion\n",
    "\n",
    "v_jupiter = (13.72 * 10 ** 3) * 3600 #m/hr max speed\n",
    "x_jupiter = 740.52 * 10 ** 9 #m at perihelion\n",
    "y_jupiter = 0.0 #m\n",
    "\n",
    "v_saturn = (10.18 * 10 ** 3) * 3600 #m/hr max speed\n",
    "x_saturn = 0.0 #m\n",
    "y_saturn = 1352.55 * 10 ** 9 #m at perihelion\n",
    "\n",
    "v_uranus = (7.11 * 10 ** 3) * 3600 #m/hr max speed\n",
    "x_uranus = 2741.30 * 10 ** 9 #m at perihelion\n",
    "y_uranus = 0.0 #m\n",
    "\n",
    "v_neptune = (5.50 * 10 ** 3) * 3600 #m/hr max speed\n",
    "x_neptune = 0.0 #m\n",
    "y_neptune = 4444.45 * 10 ** 9 #m at perihelion\n",
    "\n",
    "v_pluto = (6.10 * 10 ** 3) * 3600 #m/hr max speed\n",
    "x_pluto = 4436.82 * 10 ** 9 #m at perihelion\n",
    "y_pluto = 0.0 #m\n",
    "\n",
    "Sun = body(\"Sun\", M1, 0.0, 0.0, 0.0, 0.0)\n",
    "Earth = body(\"Earth\", M2, x_earth, y_earth, 0.0, v_earth)\n",
    "Mars = body(\"Mars\", M3, x_mars, y_mars, v_mars, 0.0)\n",
    "Mercury = body(\"Mercury\", M4, x_mercury, y_mercury, 0.0, v_mercury)\n",
    "Venus = body(\"Venus\", M5, x_venus, y_venus, v_venus, 0.0)\n",
    "Jupiter = body(\"Jupiter\", M6, x_jupiter, y_jupiter, 0.0, v_jupiter)\n",
    "Saturn = body(\"Saturn\", M7, x_saturn, y_saturn, v_saturn, 0.0)\n",
    "Uranus = body(\"Uranus\", M8, x_uranus, y_uranus, 0.0, v_uranus)\n",
    "Neptune = body(\"Neptune\", M9, x_neptune, y_neptune, v_neptune, 0.0)\n",
    "Pluto = body(\"Pluto\", M10, x_pluto, y_pluto, 0.0, v_pluto)\n"
   ]
  },
  {
   "cell_type": "code",
   "execution_count": 14,
   "metadata": {},
   "outputs": [
    {
     "name": "stdout",
     "output_type": "stream",
     "text": [
      "55\n",
      "22\n",
      "5\n",
      "60\n",
      "82\n",
      "14\n",
      "17\n",
      "54\n",
      "0\n",
      "44\n"
     ]
    },
    {
     "data": {
      "image/png": "[encoded data removed]",
      "text/plain": [
       "<Figure size 1440x1440 with 1 Axes>"
      ]
     },
     "metadata": {
      "needs_background": "light"
     },
     "output_type": "display_data"
    }
   ],
   "source": [
    "bodies = [Sun, Earth, Mars, Mercury, Venus, Jupiter, Saturn, Uranus, Neptune, Pluto]\n",
    "#Generate random initial conditions for each of the planets\n",
    "generate_initial(bodies)\n",
    "simulate(bodies, 60000)"
   ]
  },
  {
   "cell_type": "markdown",
   "metadata": {},
   "source": []
  },
  {
   "cell_type": "code",
   "execution_count": null,
   "metadata": {},
   "outputs": [],
   "source": []
  },
  {
   "cell_type": "code",
   "execution_count": null,
   "metadata": {},
   "outputs": [],
   "source": []
  },
  {
   "cell_type": "code",
   "execution_count": null,
   "metadata": {},
   "outputs": [],
   "source": []
  },
  {
   "cell_type": "code",
   "execution_count": null,
   "metadata": {},
   "outputs": [],
   "source": []
  }
 ],
 "metadata": {
  "kernelspec": {
   "display_name": "Python 3",
   "language": "python",
   "name": "python3"
  },
  "language_info": {
   "codemirror_mode": {
    "name": "ipython",
    "version": 3
   },
   "file_extension": ".py",
   "mimetype": "text/x-python",
   "name": "python",
   "nbconvert_exporter": "python",
   "pygments_lexer": "ipython3",
   "version": "3.7.3"
  },
  "varInspector": {
   "cols": {
    "lenName": 16,
    "lenType": 16,
    "lenVar": 40
   },
   "kernels_config": {
    "python": {
     "delete_cmd_postfix": "",
     "delete_cmd_prefix": "del ",
     "library": "var_list.py",
     "varRefreshCmd": "print(var_dic_list())"
    },
    "r": {
     "delete_cmd_postfix": ") ",
     "delete_cmd_prefix": "rm(",
     "library": "var_list.r",
     "varRefreshCmd": "cat(var_dic_list()) "
    }
   },
   "types_to_exclude": [
    "module",
    "function",
    "builtin_function_or_method",
    "instance",
    "_Feature"
   ],
   "window_display": false
  }
 },
 "nbformat": 4,
 "nbformat_minor": 2
}
