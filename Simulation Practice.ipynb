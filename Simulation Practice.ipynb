{
 "cells": [
  {
   "cell_type": "markdown",
   "metadata": {},
   "source": [
    "When I was an undergraduate at UC Berkeley, I breezed through several exercises in a class I took on computer\n",
    "simulations. The one that stumped me the most was the simulation of a standard 2-body Keplerian orbit. For some reason, I could not, for the life of me, replicate an ellipse. Many of my simulations returned a straight line between the two celestial bodies. \n",
    "\n",
    "Recently, I asked one of my friends and colleagues why I was having such difficulty. That was when I took seriously the usefulness of creating classes and assigning properties to objects. I already had an idea of why I was having such a difficult time replicating the ellipse: it was because of geometry. I needed to take into account the direction of forces (something I could easily add in later whenever I did calculations on paper, but could not as easily overlook when I needed to apply the physical concept). Even when I attempted to account for the directions, I was coming up with unexpected shapes. That was when I remembered that the frame of reference I was viewing the problem from also mattered; it is crucial.\n",
    "\n",
    "For students and self-guided learners who encounter difficulty with this, often-called \"simple\", exercise, I hope my realizations will help you learn easier. This exercise is, in fact, simple, if and once you understand the role geometry plays in applying forces and velocities correctly. If this is where you struggle, I would recommend taking a look at the function \"calculate_step\", where a, v_x, and v_y are calculated.\n",
    "\n",
    "As of the time of this early commit, this program still has some bugs. For example, I have converted my time units so that they should all be in meters, kilograms, and hours. I have iterated my simulation for 8760 hours, which is approximately the number of hours in one year. I would expect my simulation to have a little under a full rotation, if not a single, full rotation. However, the distance travelled is more than I would expect. Is this a problem with my expectations, or did I perhaps miss a unit, a number, a minor calculation? It is part of the learning process, and I expect to find my error sooner or later."
   ]
  },
  {
   "cell_type": "code",
   "execution_count": 1,
   "metadata": {},
   "outputs": [],
   "source": [
    "import numpy as np\n",
    "import matplotlib.pyplot as plt\n",
    "plt.rcParams[\"figure.figsize\"] = (20, 20) #Changes the default size of plotted figures."
   ]
  },
  {
   "cell_type": "markdown",
   "metadata": {},
   "source": [
    "\n",
    "Say we have a central body M1, and a secondary body M2 enters a circular area with radius R with a velocity of v.\n",
    "When this body enters the area, it will encounter the gravitational force field exuded by the central body M1.\n",
    "This force will pull the body M2 inward, but with a high enough v (assuming an inertial frame), the secondary body\n",
    "should be able to maintain an elliptical orbit, instead of falling inward.\n",
    "With too high of a v, though, the secondary body will continue on its course unimpeded, and will only be slightly\n",
    "diverted in its trajectory.\n",
    "\n",
    "How do we plot this?\n",
    "We look at how the gravitational force will impact the vertical and horizontal direction of the seconary body.\n",
    "In reality, we would have to account for 3 possible axes of movement, but for simplicity, we will focus on a \n",
    "2-dimensional simulation.\n",
    "\n"
   ]
  },
  {
   "cell_type": "code",
   "execution_count": 2,
   "metadata": {},
   "outputs": [],
   "source": [
    "#G = 6.674 * 10 ** (-11) * (3600 * 24) ** 2 #m^3 kg^-1 day^-2\n",
    "G = 6.674 * 10 ** (-11) * (3600 ** 2) #m^3 kg^-1 hr^-2\n",
    "#G = 6.674 * 10 ** (-11) ##m^3 kg^-1 s^-2\n",
    "\n",
    "#Standard Distance Equation\n",
    "def calc_distance(body1, body2):\n",
    "    R = np.sqrt((body1.x_position - body2.x_position)**2 + (body1.y_position - body2.y_position)**2)\n",
    "    return R\n",
    "#Newtonian equations of motion for velocity and position.\n",
    "def update_velocity(velocity, acceleration, timestep):\n",
    "    new_velocity = velocity + (acceleration * timestep)\n",
    "    return new_velocity\n",
    "def update_position(x, y, v_x, v_y, timestep):\n",
    "    new_x = x + v_x*timestep\n",
    "    new_y = y + v_y*timestep\n",
    "    return new_x, new_y\n",
    "\n",
    "#The heart of the simulation.\n",
    "def calculate_step(central_body, orbitting_body, t = 1):\n",
    "    #t = timestep. Sets default timestep to 1 unit. Current time units are hours.\n",
    "    R = calc_distance(central_body, orbitting_body)\n",
    "    a = -G * central_body.mass * np.abs(R ** (-2)) #Acceleration assuming the only force is gravity acting on the planet\n",
    "    #Attempting to account for directionality by using positions of two bodies instead of guessing or using trig    \n",
    "    v_x = orbitting_body.velocity * -(central_body.y_position - orbitting_body.y_position)/R\n",
    "    v_y = orbitting_body.velocity * (central_body.x_position - orbitting_body.x_position)/R\n",
    "    orbitting_body.x_position, orbitting_body.y_position = update_position(orbitting_body.x_position, orbitting_body.y_position, v_x, v_y, t)\n",
    "    orbitting_body.velocity = update_velocity(orbitting_body.velocity, a, t)\n",
    "    return orbitting_body.x_position, orbitting_body.y_position\n",
    "    \n",
    "class body:\n",
    "    global G\n",
    "    def __init__(self, name, mass, x_position, y_position, velocity):\n",
    "        self.name = name\n",
    "        self.mass = mass\n",
    "        self.x_position = x_position\n",
    "        self.y_position = y_position\n",
    "        self.velocity = velocity\n",
    "        \n",
    "\n",
    "\n",
    "\n"
   ]
  },
  {
   "cell_type": "code",
   "execution_count": 3,
   "metadata": {},
   "outputs": [],
   "source": [
    "#Initial Conditions\n",
    "M1 = 1.9091 * 10 ** 30 #kg #solar mass\n",
    "M2 = 5.9724 * 10 ** 24 #kg #earth mass\n",
    "\n",
    "v = (30.29 * 10**3)* 3600# hr/day\n",
    "x = 147.09 * 10**9#m\n",
    "y = 0 #m\n",
    "\n",
    "Sun = body(\"Sun\", M1, 0, 0, 0)\n",
    "Earth = body(\"Earth\", M2, x, y, v)"
   ]
  },
  {
   "cell_type": "code",
   "execution_count": 4,
   "metadata": {},
   "outputs": [],
   "source": [
    "#Creating arrays to store the data points to be plotted\n",
    "earth_y_pos = []\n",
    "earth_x_pos = []\n",
    "sun_y_pos = []\n",
    "sun_x_pos = []\n",
    "x_0 = Earth.x_position\n",
    "y_0 = Earth.y_position\n",
    "\n",
    "#Run Simulation\n",
    "for t in range(8760):\n",
    "    earth_x, earth_y = calculate_step(Sun, Earth)\n",
    "    sun_x, sun_y = calculate_step(Earth, Sun)\n",
    "    earth_y_pos.append(earth_y)\n",
    "    earth_x_pos.append(earth_x)\n",
    "    sun_y_pos.append(sun_y)\n",
    "    sun_x_pos.append(sun_x)\n",
    "    \n"
   ]
  },
  {
   "cell_type": "code",
   "execution_count": 5,
   "metadata": {},
   "outputs": [
    {
     "data": {
      "image/png": "[encoded data removed]",
      "text/plain": [
       "<Figure size 432x288 with 1 Axes>"
      ]
     },
     "metadata": {
      "needs_background": "light"
     },
     "output_type": "display_data"
    }
   ],
   "source": [
    "plt.plot(earth_x_pos, earth_y_pos, 'b-')\n",
    "plt.plot(sun_x_pos, sun_y_pos, 'y*', markersize = 45)\n",
    "plt.plot(x_0, y_0, 'co', markersize = 15, label = \"Initial Position\")\n",
    "\n",
    "#Lock the Axes so it does not change with the values plotted\n",
    "plt.xlim(-2 * 10 ** 11, 2 * 10**11)\n",
    "plt.ylim(-2 * 10 ** 11, 2 * 10**11)\n",
    "\n",
    "\n",
    "plt.title(\"SIMULATION: {:s}\".format(Earth.name) + \" orbitting around {:s}\".format(Sun.name))\n",
    "plt.legend()\n",
    "plt.show()"
   ]
  },
  {
   "cell_type": "code",
   "execution_count": null,
   "metadata": {},
   "outputs": [],
   "source": []
  },
  {
   "cell_type": "code",
   "execution_count": null,
   "metadata": {},
   "outputs": [],
   "source": []
  },
  {
   "cell_type": "code",
   "execution_count": null,
   "metadata": {},
   "outputs": [],
   "source": []
  }
 ],
 "metadata": {
  "kernelspec": {
   "display_name": "Python 3",
   "language": "python",
   "name": "python3"
  },
  "language_info": {
   "codemirror_mode": {
    "name": "ipython",
    "version": 3
   },
   "file_extension": ".py",
   "mimetype": "text/x-python",
   "name": "python",
   "nbconvert_exporter": "python",
   "pygments_lexer": "ipython3",
   "version": "3.7.3"
  },
  "varInspector": {
   "cols": {
    "lenName": 16,
    "lenType": 16,
    "lenVar": 40
   },
   "kernels_config": {
    "python": {
     "delete_cmd_postfix": "",
     "delete_cmd_prefix": "del ",
     "library": "var_list.py",
     "varRefreshCmd": "print(var_dic_list())"
    },
    "r": {
     "delete_cmd_postfix": ") ",
     "delete_cmd_prefix": "rm(",
     "library": "var_list.r",
     "varRefreshCmd": "cat(var_dic_list()) "
    }
   },
   "types_to_exclude": [
    "module",
    "function",
    "builtin_function_or_method",
    "instance",
    "_Feature"
   ],
   "window_display": false
  }
 },
 "nbformat": 4,
 "nbformat_minor": 2
}
